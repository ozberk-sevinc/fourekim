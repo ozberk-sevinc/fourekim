{
 "cells": [
  {
   "cell_type": "code",
   "execution_count": 30,
   "metadata": {},
   "outputs": [
    {
     "name": "stderr",
     "output_type": "stream",
     "text": [
      "C:\\Users\\OZBERK\\AppData\\Local\\Temp\\ipykernel_14764\\2279716399.py:9: DeprecationWarning: executable_path has been deprecated, please pass in a Service object\n",
      "  driver = webdriver.Edge(\"C:/Users/OZBERK/Desktop/edgedriver_win64/msedgedriver.exe\")\n"
     ]
    },
    {
     "ename": "ElementClickInterceptedException",
     "evalue": "Message: element click intercepted: Element <iframe title=\"reCAPTCHA\" src=\"https://www.google.com/recaptcha/api2/anchor?ar=1&amp;k=6LdMCGUUAAAAACrwwa5LRul8zxTdtmcFPUTi8Xw-&amp;co=aHR0cHM6Ly93d3cuaWRhdGEuY29tLnRyOjQ0Mw..&amp;hl=en&amp;v=QybaJej5brGL8d7EvWmfKMZU&amp;size=normal&amp;cb=ef66c590pgx6\" width=\"304\" height=\"78\" role=\"presentation\" name=\"a-rclgkz8kkx0a\" frameborder=\"0\" scrolling=\"no\" sandbox=\"allow-forms allow-popups allow-same-origin allow-scripts allow-top-navigation allow-modals allow-popups-to-escape-sandbox allow-storage-access-by-user-activation\" cd_frame_id_=\"768442cf58bbfe6d8d903e5912b30cab\"></iframe> is not clickable at point (148, 595). Other element would receive the click: <p>...</p>\n  (Session info: MicrosoftEdge=115.0.1901.203)\nStacktrace:\nBacktrace:\n\tGetHandleVerifier [0x00007FF67D395422+69586]\n\tMicrosoft::Applications::Events::EventProperty::~EventProperty [0x00007FF67D325662+760226]\n\t(No symbol) [0x00007FF67D0DB8CC]\n\t(No symbol) [0x00007FF67D12A302]\n\t(No symbol) [0x00007FF67D127F4B]\n\t(No symbol) [0x00007FF67D125F45]\n\t(No symbol) [0x00007FF67D1243A4]\n\t(No symbol) [0x00007FF67D116F86]\n\t(No symbol) [0x00007FF67D142DAA]\n\t(No symbol) [0x00007FF67D116A11]\n\t(No symbol) [0x00007FF67D1168BD]\n\t(No symbol) [0x00007FF67D1430E0]\n\t(No symbol) [0x00007FF67D116A11]\n\t(No symbol) [0x00007FF67D15C241]\n\t(No symbol) [0x00007FF67D142B83]\n\t(No symbol) [0x00007FF67D11589E]\n\t(No symbol) [0x00007FF67D114B6B]\n\t(No symbol) [0x00007FF67D116024]\n\tMicrosoft::Applications::Events::ILogManager::DispatchEventBroadcast [0x00007FF67D56D229+1294553]\n\t(No symbol) [0x00007FF67D1949F4]\n\tMicrosoft::Applications::Events::EventProperty::~EventProperty [0x00007FF67D273DF1+33073]\n\tMicrosoft::Applications::Events::EventProperty::~EventProperty [0x00007FF67D26C409+1865]\n\tMicrosoft::Applications::Events::ILogManager::DispatchEventBroadcast [0x00007FF67D56BE01+1289393]\n\tMicrosoft::Applications::Events::ILogConfiguration::operator* [0x00007FF67D32DC68+20184]\n\tMicrosoft::Applications::Events::ILogConfiguration::operator* [0x00007FF67D32A2F4+5476]\n\tMicrosoft::Applications::Events::ILogConfiguration::operator* [0x00007FF67D32A3EC+5724]\n\tMicrosoft::Applications::Events::EventProperty::~EventProperty [0x00007FF67D31ECA1+733153]\n\tBaseThreadInitThunk [0x00007FFAF2207614+20]\n\tRtlUserThreadStart [0x00007FFAF2FC26B1+33]\n",
     "output_type": "error",
     "traceback": [
      "\u001b[1;31m---------------------------------------------------------------------------\u001b[0m",
      "\u001b[1;31mElementClickInterceptedException\u001b[0m          Traceback (most recent call last)",
      "\u001b[1;32mc:\\Users\\OZBERK\\Desktop\\Masaüstü 2022\\Özberk Bey\\vscode\\New folder\\idata.ipynb Cell 1\u001b[0m in \u001b[0;36m3\n\u001b[0;32m     <a href='vscode-notebook-cell:/c%3A/Users/OZBERK/Desktop/Masa%C3%BCst%C3%BC%202022/%C3%96zberk%20Bey/vscode/New%20folder/idata.ipynb#W0sZmlsZQ%3D%3D?line=35'>36</a>\u001b[0m     driver\u001b[39m.\u001b[39mquit()\n\u001b[0;32m     <a href='vscode-notebook-cell:/c%3A/Users/OZBERK/Desktop/Masa%C3%BCst%C3%BC%202022/%C3%96zberk%20Bey/vscode/New%20folder/idata.ipynb#W0sZmlsZQ%3D%3D?line=37'>38</a>\u001b[0m \u001b[39mfor\u001b[39;00m _ \u001b[39min\u001b[39;00m \u001b[39mrange\u001b[39m(\u001b[39m5\u001b[39m):\n\u001b[1;32m---> <a href='vscode-notebook-cell:/c%3A/Users/OZBERK/Desktop/Masa%C3%BCst%C3%BC%202022/%C3%96zberk%20Bey/vscode/New%20folder/idata.ipynb#W0sZmlsZQ%3D%3D?line=38'>39</a>\u001b[0m     pasaportkontrol()\n",
      "\u001b[1;32mc:\\Users\\OZBERK\\Desktop\\Masaüstü 2022\\Özberk Bey\\vscode\\New folder\\idata.ipynb Cell 1\u001b[0m in \u001b[0;36m1\n\u001b[0;32m     <a href='vscode-notebook-cell:/c%3A/Users/OZBERK/Desktop/Masa%C3%BCst%C3%BC%202022/%C3%96zberk%20Bey/vscode/New%20folder/idata.ipynb#W0sZmlsZQ%3D%3D?line=14'>15</a>\u001b[0m time\u001b[39m.\u001b[39msleep(\u001b[39m5\u001b[39m)\n\u001b[0;32m     <a href='vscode-notebook-cell:/c%3A/Users/OZBERK/Desktop/Masa%C3%BCst%C3%BC%202022/%C3%96zberk%20Bey/vscode/New%20folder/idata.ipynb#W0sZmlsZQ%3D%3D?line=16'>17</a>\u001b[0m WebDriverWait(driver, \u001b[39m20\u001b[39m)\u001b[39m.\u001b[39muntil(EC\u001b[39m.\u001b[39mframe_to_be_available_and_switch_to_it((By\u001b[39m.\u001b[39mCSS_SELECTOR,\u001b[39m\"\u001b[39m\u001b[39miframe[title=\u001b[39m\u001b[39m'\u001b[39m\u001b[39mreCAPTCHA\u001b[39m\u001b[39m'\u001b[39m\u001b[39m]\u001b[39m\u001b[39m\"\u001b[39m)))\n\u001b[1;32m---> <a href='vscode-notebook-cell:/c%3A/Users/OZBERK/Desktop/Masa%C3%BCst%C3%BC%202022/%C3%96zberk%20Bey/vscode/New%20folder/idata.ipynb#W0sZmlsZQ%3D%3D?line=17'>18</a>\u001b[0m WebDriverWait(driver, \u001b[39m20\u001b[39;49m)\u001b[39m.\u001b[39;49muntil(EC\u001b[39m.\u001b[39;49melement_to_be_clickable((By\u001b[39m.\u001b[39;49mCSS_SELECTOR, \u001b[39m\"\u001b[39;49m\u001b[39mdiv.recaptcha-checkbox-border\u001b[39;49m\u001b[39m\"\u001b[39;49m)))\u001b[39m.\u001b[39;49mclick()\n\u001b[0;32m     <a href='vscode-notebook-cell:/c%3A/Users/OZBERK/Desktop/Masa%C3%BCst%C3%BC%202022/%C3%96zberk%20Bey/vscode/New%20folder/idata.ipynb#W0sZmlsZQ%3D%3D?line=18'>19</a>\u001b[0m driver\u001b[39m.\u001b[39mswitch_to\u001b[39m.\u001b[39mdefault_content()\n\u001b[0;32m     <a href='vscode-notebook-cell:/c%3A/Users/OZBERK/Desktop/Masa%C3%BCst%C3%BC%202022/%C3%96zberk%20Bey/vscode/New%20folder/idata.ipynb#W0sZmlsZQ%3D%3D?line=21'>22</a>\u001b[0m passport \u001b[39m=\u001b[39m driver\u001b[39m.\u001b[39mfind_element(By\u001b[39m.\u001b[39mID, \u001b[39m\"\u001b[39m\u001b[39mpasaport_code\u001b[39m\u001b[39m\"\u001b[39m)\n",
      "File \u001b[1;32mc:\\Users\\OZBERK\\AppData\\Local\\Programs\\Python\\Python311\\Lib\\site-packages\\selenium\\webdriver\\remote\\webelement.py:93\u001b[0m, in \u001b[0;36mWebElement.click\u001b[1;34m(self)\u001b[0m\n\u001b[0;32m     91\u001b[0m \u001b[39mdef\u001b[39;00m \u001b[39mclick\u001b[39m(\u001b[39mself\u001b[39m) \u001b[39m-\u001b[39m\u001b[39m>\u001b[39m \u001b[39mNone\u001b[39;00m:\n\u001b[0;32m     92\u001b[0m     \u001b[39m\"\"\"Clicks the element.\"\"\"\u001b[39;00m\n\u001b[1;32m---> 93\u001b[0m     \u001b[39mself\u001b[39;49m\u001b[39m.\u001b[39;49m_execute(Command\u001b[39m.\u001b[39;49mCLICK_ELEMENT)\n",
      "File \u001b[1;32mc:\\Users\\OZBERK\\AppData\\Local\\Programs\\Python\\Python311\\Lib\\site-packages\\selenium\\webdriver\\remote\\webelement.py:410\u001b[0m, in \u001b[0;36mWebElement._execute\u001b[1;34m(self, command, params)\u001b[0m\n\u001b[0;32m    408\u001b[0m     params \u001b[39m=\u001b[39m {}\n\u001b[0;32m    409\u001b[0m params[\u001b[39m\"\u001b[39m\u001b[39mid\u001b[39m\u001b[39m\"\u001b[39m] \u001b[39m=\u001b[39m \u001b[39mself\u001b[39m\u001b[39m.\u001b[39m_id\n\u001b[1;32m--> 410\u001b[0m \u001b[39mreturn\u001b[39;00m \u001b[39mself\u001b[39;49m\u001b[39m.\u001b[39;49m_parent\u001b[39m.\u001b[39;49mexecute(command, params)\n",
      "File \u001b[1;32mc:\\Users\\OZBERK\\AppData\\Local\\Programs\\Python\\Python311\\Lib\\site-packages\\selenium\\webdriver\\remote\\webdriver.py:444\u001b[0m, in \u001b[0;36mWebDriver.execute\u001b[1;34m(self, driver_command, params)\u001b[0m\n\u001b[0;32m    442\u001b[0m response \u001b[39m=\u001b[39m \u001b[39mself\u001b[39m\u001b[39m.\u001b[39mcommand_executor\u001b[39m.\u001b[39mexecute(driver_command, params)\n\u001b[0;32m    443\u001b[0m \u001b[39mif\u001b[39;00m response:\n\u001b[1;32m--> 444\u001b[0m     \u001b[39mself\u001b[39;49m\u001b[39m.\u001b[39;49merror_handler\u001b[39m.\u001b[39;49mcheck_response(response)\n\u001b[0;32m    445\u001b[0m     response[\u001b[39m\"\u001b[39m\u001b[39mvalue\u001b[39m\u001b[39m\"\u001b[39m] \u001b[39m=\u001b[39m \u001b[39mself\u001b[39m\u001b[39m.\u001b[39m_unwrap_value(response\u001b[39m.\u001b[39mget(\u001b[39m\"\u001b[39m\u001b[39mvalue\u001b[39m\u001b[39m\"\u001b[39m, \u001b[39mNone\u001b[39;00m))\n\u001b[0;32m    446\u001b[0m     \u001b[39mreturn\u001b[39;00m response\n",
      "File \u001b[1;32mc:\\Users\\OZBERK\\AppData\\Local\\Programs\\Python\\Python311\\Lib\\site-packages\\selenium\\webdriver\\remote\\errorhandler.py:249\u001b[0m, in \u001b[0;36mErrorHandler.check_response\u001b[1;34m(self, response)\u001b[0m\n\u001b[0;32m    247\u001b[0m         alert_text \u001b[39m=\u001b[39m value[\u001b[39m\"\u001b[39m\u001b[39malert\u001b[39m\u001b[39m\"\u001b[39m]\u001b[39m.\u001b[39mget(\u001b[39m\"\u001b[39m\u001b[39mtext\u001b[39m\u001b[39m\"\u001b[39m)\n\u001b[0;32m    248\u001b[0m     \u001b[39mraise\u001b[39;00m exception_class(message, screen, stacktrace, alert_text)  \u001b[39m# type: ignore[call-arg]  # mypy is not smart enough here\u001b[39;00m\n\u001b[1;32m--> 249\u001b[0m \u001b[39mraise\u001b[39;00m exception_class(message, screen, stacktrace)\n",
      "\u001b[1;31mElementClickInterceptedException\u001b[0m: Message: element click intercepted: Element <iframe title=\"reCAPTCHA\" src=\"https://www.google.com/recaptcha/api2/anchor?ar=1&amp;k=6LdMCGUUAAAAACrwwa5LRul8zxTdtmcFPUTi8Xw-&amp;co=aHR0cHM6Ly93d3cuaWRhdGEuY29tLnRyOjQ0Mw..&amp;hl=en&amp;v=QybaJej5brGL8d7EvWmfKMZU&amp;size=normal&amp;cb=ef66c590pgx6\" width=\"304\" height=\"78\" role=\"presentation\" name=\"a-rclgkz8kkx0a\" frameborder=\"0\" scrolling=\"no\" sandbox=\"allow-forms allow-popups allow-same-origin allow-scripts allow-top-navigation allow-modals allow-popups-to-escape-sandbox allow-storage-access-by-user-activation\" cd_frame_id_=\"768442cf58bbfe6d8d903e5912b30cab\"></iframe> is not clickable at point (148, 595). Other element would receive the click: <p>...</p>\n  (Session info: MicrosoftEdge=115.0.1901.203)\nStacktrace:\nBacktrace:\n\tGetHandleVerifier [0x00007FF67D395422+69586]\n\tMicrosoft::Applications::Events::EventProperty::~EventProperty [0x00007FF67D325662+760226]\n\t(No symbol) [0x00007FF67D0DB8CC]\n\t(No symbol) [0x00007FF67D12A302]\n\t(No symbol) [0x00007FF67D127F4B]\n\t(No symbol) [0x00007FF67D125F45]\n\t(No symbol) [0x00007FF67D1243A4]\n\t(No symbol) [0x00007FF67D116F86]\n\t(No symbol) [0x00007FF67D142DAA]\n\t(No symbol) [0x00007FF67D116A11]\n\t(No symbol) [0x00007FF67D1168BD]\n\t(No symbol) [0x00007FF67D1430E0]\n\t(No symbol) [0x00007FF67D116A11]\n\t(No symbol) [0x00007FF67D15C241]\n\t(No symbol) [0x00007FF67D142B83]\n\t(No symbol) [0x00007FF67D11589E]\n\t(No symbol) [0x00007FF67D114B6B]\n\t(No symbol) [0x00007FF67D116024]\n\tMicrosoft::Applications::Events::ILogManager::DispatchEventBroadcast [0x00007FF67D56D229+1294553]\n\t(No symbol) [0x00007FF67D1949F4]\n\tMicrosoft::Applications::Events::EventProperty::~EventProperty [0x00007FF67D273DF1+33073]\n\tMicrosoft::Applications::Events::EventProperty::~EventProperty [0x00007FF67D26C409+1865]\n\tMicrosoft::Applications::Events::ILogManager::DispatchEventBroadcast [0x00007FF67D56BE01+1289393]\n\tMicrosoft::Applications::Events::ILogConfiguration::operator* [0x00007FF67D32DC68+20184]\n\tMicrosoft::Applications::Events::ILogConfiguration::operator* [0x00007FF67D32A2F4+5476]\n\tMicrosoft::Applications::Events::ILogConfiguration::operator* [0x00007FF67D32A3EC+5724]\n\tMicrosoft::Applications::Events::EventProperty::~EventProperty [0x00007FF67D31ECA1+733153]\n\tBaseThreadInitThunk [0x00007FFAF2207614+20]\n\tRtlUserThreadStart [0x00007FFAF2FC26B1+33]\n"
     ]
    }
   ],
   "source": [
    "from selenium import webdriver\n",
    "from selenium.webdriver.common.by import By\n",
    "from selenium.webdriver.edge.service import Service\n",
    "import time\n",
    "from selenium.webdriver.support.ui import WebDriverWait\n",
    "from selenium.webdriver.support import expected_conditions as EC\n",
    "\n",
    "def pasaportkontrol(): \n",
    "    driver = webdriver.Edge(\"C:\")\n",
    "    form_url = \"https://www.idata.com.tr/ita/tr/p/basvuru-takip-ita#//\"\n",
    "    driver.get(form_url)\n",
    "    time.sleep(3)\n",
    "    button_element = driver.find_element(By.CSS_SELECTOR, \"body > div.fancybox-overlay.fancybox-overlay-fixed > div > div > a\")\n",
    "    button_element.click()\n",
    "    time.sleep(5)\n",
    "\n",
    "    WebDriverWait(driver, 20).until(EC.frame_to_be_available_and_switch_to_it((By.CSS_SELECTOR,\"iframe[title='reCAPTCHA']\")))\n",
    "    WebDriverWait(driver, 20).until(EC.element_to_be_clickable((By.CSS_SELECTOR, \"div.recaptcha-checkbox-border\"))).click()\n",
    "    driver.switch_to.default_content()\n",
    "\n",
    "\n",
    "    # passport = driver.find_element(By.ID, \"pasaport_code\")\n",
    "    # barcode =  driver.find_element(By.ID, \"barcode_code\")\n",
    "    # passport.send_keys(\"x\")\n",
    "    # barcode.send_keys(\"y\")\n",
    "    \n",
    "   \n",
    "    sorgula = driver.find_element(By.CSS_SELECTOR, \"body > div.origin > div.page-wrap.blog-post > div > div > main > div > div.action_result_area_follow > div.btn-service.follow_app_action\")\n",
    "    sorgula.click()\n",
    "    time.sleep(3)\n",
    "    sonuc = driver.find_element(By.CLASS_NAME, \"show_result_area_follow alert alert-info\")\n",
    "    WebDriverWait(driver, 10).until(EC.visibility_of_element_located((By.CLASS_NAME, \"show_result_area_follow alert alert-info\")))\n",
    "    print(sonuc)\n",
    "\n",
    "    time.sleep(5)\n",
    "    driver.quit()\n",
    "\n",
    "for _ in range(5):\n",
    "    pasaportkontrol()\n",
    "\n",
    "\n",
    "\n",
    "\n"
   ]
  }
 ],
 "metadata": {
  "kernelspec": {
   "display_name": "Python 3",
   "language": "python",
   "name": "python3"
  },
  "language_info": {
   "codemirror_mode": {
    "name": "ipython",
    "version": 3
   },
   "file_extension": ".py",
   "mimetype": "text/x-python",
   "name": "python",
   "nbconvert_exporter": "python",
   "pygments_lexer": "ipython3",
   "version": "3.11.1"
  },
  "orig_nbformat": 4
 },
 "nbformat": 4,
 "nbformat_minor": 2
}
